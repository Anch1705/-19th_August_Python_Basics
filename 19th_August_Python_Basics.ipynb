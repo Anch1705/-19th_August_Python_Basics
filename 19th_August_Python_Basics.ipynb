{
 "cells": [
  {
   "cell_type": "code",
   "execution_count": 13,
   "id": "f802156b-909b-4349-9aab-42eeb47bcc73",
   "metadata": {},
   "outputs": [
    {
     "name": "stdout",
     "output_type": "stream",
     "text": [
      "a = 2\n",
      "b = 1\n"
     ]
    }
   ],
   "source": [
    "#Swap the values of these variables\n",
    "a=1\n",
    "b=2\n",
    "a,b=b,a\n",
    "print(\"a =\",a)\n",
    "print(\"b =\",b)"
   ]
  },
  {
   "cell_type": "code",
   "execution_count": 14,
   "id": "d461815b-ad0a-48d2-9237-7eea54d4d844",
   "metadata": {},
   "outputs": [
    {
     "name": "stdin",
     "output_type": "stream",
     "text": [
      " 8.5\n",
      " 5.2\n"
     ]
    },
    {
     "name": "stdout",
     "output_type": "stream",
     "text": [
      "Area of rectangle = 44.2\n"
     ]
    }
   ],
   "source": [
    "#Swap the values of these variables\n",
    "length = float(input())\n",
    "width = float(input())\n",
    "Area = length * width\n",
    "print(\"Area of rectangle =\",Area)"
   ]
  },
  {
   "cell_type": "code",
   "execution_count": 15,
   "id": "a26c523e-7a38-4475-b5bb-bf1d98e2a793",
   "metadata": {},
   "outputs": [
    {
     "name": "stdin",
     "output_type": "stream",
     "text": [
      " 10.2\n"
     ]
    },
    {
     "name": "stdout",
     "output_type": "stream",
     "text": [
      "temprature in Farenheit = 50.36\n"
     ]
    }
   ],
   "source": [
    "#program that calculates the area of a rectangle\n",
    "TempC= float(input())\n",
    "TempF=TempC*1.8+32\n",
    "print(\"Temprature in Farenheit =\", TempF)"
   ]
  },
  {
   "cell_type": "code",
   "execution_count": 16,
   "id": "b5dc73a5-faa1-4c36-b59a-9f125041ba9b",
   "metadata": {},
   "outputs": [
    {
     "name": "stdout",
     "output_type": "stream",
     "text": [
      "8\n"
     ]
    }
   ],
   "source": [
    "#program that takes a string as input and prints the length of the string\n",
    "str=\"PWSkills\"\n",
    "print(len(str))"
   ]
  },
  {
   "cell_type": "code",
   "execution_count": 18,
   "id": "df0eea93-0798-4421-9905-295a7cba5e34",
   "metadata": {},
   "outputs": [
    {
     "name": "stdin",
     "output_type": "stream",
     "text": [
      "Enter a string:  I like learning Python\n"
     ]
    },
    {
     "name": "stdout",
     "output_type": "stream",
     "text": [
      "{'a': 1, 'e': 2, 'i': 3, 'o': 1, 'u': 0}\n"
     ]
    }
   ],
   "source": [
    "#program that takes a sentence from the user and counts the number of vowels in the string\n",
    "ip_str=input(\"Enter a string: \")\n",
    "ip_str=ip_str.casefold()\n",
    "count = {x:sum([1 for char in ip_str if char == x]) for x in 'aeiou'}\n",
    "print(count)"
   ]
  },
  {
   "cell_type": "code",
   "execution_count": 23,
   "id": "4e299a7d-50cd-4564-b83f-9ff3de7f39c9",
   "metadata": {},
   "outputs": [
    {
     "data": {
      "text/plain": [
       "'nohtyP sllikSWP'"
      ]
     },
     "execution_count": 23,
     "metadata": {},
     "output_type": "execute_result"
    }
   ],
   "source": [
    "#Given a string, reverse the order of characters using string slicing and print the reversed string\n",
    "a=\"PWSkills Python\"\n",
    "a[::-1]"
   ]
  },
  {
   "cell_type": "code",
   "execution_count": 33,
   "id": "73fe45ab-8102-459f-ae24-c13547810762",
   "metadata": {},
   "outputs": [
    {
     "name": "stdin",
     "output_type": "stream",
     "text": [
      "Enter the string:  Radar\n"
     ]
    },
    {
     "name": "stdout",
     "output_type": "stream",
     "text": [
      "The string is not a palindrome.\n"
     ]
    }
   ],
   "source": [
    "#Write a program that takes a string as input and checks if it is a palindrome\n",
    "str_1=input (\"Enter the string: \")\n",
    "\n",
    "str_1=str_1.casefold ()\n",
    "\n",
    "rev_str = reversed (str_1)\n",
    "\n",
    "if (list, str_1) == list (rev_str):\n",
    "\n",
    "              print (\"The string is a palindrome.\")\n",
    "\n",
    "else:\n",
    "\n",
    "              print (\"The string is not a palindrome.\")"
   ]
  },
  {
   "cell_type": "code",
   "execution_count": 37,
   "id": "bbeedba0-c395-40ed-9403-861a3f59eba5",
   "metadata": {},
   "outputs": [
    {
     "name": "stdin",
     "output_type": "stream",
     "text": [
      " PW Skills Python\n"
     ]
    },
    {
     "name": "stdout",
     "output_type": "stream",
     "text": [
      "String after removing all the white spaces : PWSkillsPython\n"
     ]
    }
   ],
   "source": [
    "#Create a program that takes a string as input and removes all the spaces from it\n",
    "str1 = input()\n",
    "str1 = str1.replace(\" \",\"\")\n",
    "print(\"String after removing all the white spaces : \" + str1)"
   ]
  },
  {
   "cell_type": "code",
   "execution_count": null,
   "id": "e3bf56eb-8bf9-40fb-bccf-4a186c098588",
   "metadata": {},
   "outputs": [],
   "source": []
  }
 ],
 "metadata": {
  "kernelspec": {
   "display_name": "Python 3 (ipykernel)",
   "language": "python",
   "name": "python3"
  },
  "language_info": {
   "codemirror_mode": {
    "name": "ipython",
    "version": 3
   },
   "file_extension": ".py",
   "mimetype": "text/x-python",
   "name": "python",
   "nbconvert_exporter": "python",
   "pygments_lexer": "ipython3",
   "version": "3.10.8"
  }
 },
 "nbformat": 4,
 "nbformat_minor": 5
}
